{
 "cells": [
  {
   "cell_type": "code",
   "execution_count": 1,
   "metadata": {
    "collapsed": true
   },
   "outputs": [],
   "source": [
    "# -*- coding: utf-8 -*-\n",
    "\"\"\"\n",
    "Yelp Fusion API code sample.\n",
    "\n",
    "This program demonstrates the capability of the Yelp Fusion API\n",
    "by using the Search API to query for businesses by a search term and location,\n",
    "and the Business API to query additional information about the top result\n",
    "from the search query.\n",
    "\n",
    "Please refer to http://www.yelp.com/developers/v3/documentation for the API\n",
    "documentation.\n",
    "\n",
    "This program requires the Python requests library, which you can install via:\n",
    "`pip install -r requirements.txt`.\n",
    "\n",
    "Sample usage of the program:\n",
    "`python sample.py --term=\"bars\" --location=\"San Francisco, CA\"`\n",
    "\"\"\"\n",
    "from __future__ import print_function\n",
    "\n",
    "import argparse\n",
    "import json\n",
    "import pprint\n",
    "import requests\n",
    "import sys\n",
    "import urllib\n"
   ]
  },
  {
   "cell_type": "code",
   "execution_count": 2,
   "metadata": {
    "collapsed": true
   },
   "outputs": [],
   "source": [
    "# This client code can run on Python 2.x or 3.x.  Your imports can be\n",
    "# simpler if you only need one of those.\n",
    "try:\n",
    "    # For Python 3.0 and later\n",
    "    from urllib.error import HTTPError\n",
    "    from urllib.parse import quote\n",
    "    from urllib.parse import urlencode\n",
    "except ImportError:\n",
    "    # Fall back to Python 2's urllib2 and urllib\n",
    "    from urllib2 import HTTPError\n",
    "    from urllib import quote\n",
    "    from urllib import urlencode\n",
    "\n",
    "\n",
    "# OAuth credential placeholders that must be filled in by users.\n",
    "# You can find them on\n",
    "# https://www.yelp.com/developers/v3/manage_app\n",
    "CLIENT_ID = \"tjyTyryK2bdHEM86t-hlVg\"\n",
    "CLIENT_SECRET = \"YIIIFrSVEFpfuxdSJSz0PkRdQWyxWZ24S8dYK7zyLxew6sI3rpAwTKWzhangskrh\"\n",
    "\n",
    "\n",
    "# API constants, you shouldn't have to change these.\n",
    "API_HOST = 'https://api.yelp.com'\n",
    "SEARCH_PATH = '/v3/businesses/search'\n",
    "BUSINESS_PATH = '/v3/businesses/'  # Business ID will come after slash.\n",
    "TOKEN_PATH = '/oauth2/token'\n",
    "GRANT_TYPE = 'client_credentials'\n",
    "\n",
    "\n",
    "# Defaults for our simple example.\n",
    "DEFAULT_TERM = 'dinner'\n",
    "DEFAULT_LOCATION = 'San Francisco, CA'\n",
    "SEARCH_LIMIT = 3"
   ]
  },
  {
   "cell_type": "code",
   "execution_count": 4,
   "metadata": {
    "collapsed": true
   },
   "outputs": [],
   "source": [
    "def obtain_bearer_token(host, path):\n",
    "    \"\"\"Given a bearer token, send a GET request to the API.\n",
    "\n",
    "    Args:\n",
    "        host (str): The domain host of the API.\n",
    "        path (str): The path of the API after the domain.\n",
    "        url_params (dict): An optional set of query parameters in the request.\n",
    "\n",
    "    Returns:\n",
    "        str: OAuth bearer token, obtained using client_id and client_secret.\n",
    "\n",
    "    Raises:\n",
    "        HTTPError: An error occurs from the HTTP request.\n",
    "    \"\"\"\n",
    "    url = '{0}{1}'.format(host, quote(path.encode('utf8')))\n",
    "    assert CLIENT_ID, \"Please supply your client_id.\"\n",
    "    assert CLIENT_SECRET, \"Please supply your client_secret.\"\n",
    "    data = urlencode({\n",
    "        'client_id': CLIENT_ID,\n",
    "        'client_secret': CLIENT_SECRET,\n",
    "        'grant_type': GRANT_TYPE,\n",
    "    })\n",
    "    headers = {\n",
    "        'content-type': 'application/x-www-form-urlencoded',\n",
    "    }\n",
    "    response = requests.request('POST', url, data=data, headers=headers)\n",
    "    bearer_token = response.json()['access_token']\n",
    "    return bearer_token\n",
    "\n",
    "\n",
    "def request(host, path, bearer_token, url_params=None):\n",
    "    \"\"\"Given a bearer token, send a GET request to the API.\n",
    "\n",
    "    Args:\n",
    "        host (str): The domain host of the API.\n",
    "        path (str): The path of the API after the domain.\n",
    "        bearer_token (str): OAuth bearer token, obtained using client_id and client_secret.\n",
    "        url_params (dict): An optional set of query parameters in the request.\n",
    "\n",
    "    Returns:\n",
    "        dict: The JSON response from the request.\n",
    "\n",
    "    Raises:\n",
    "        HTTPError: An error occurs from the HTTP request.\n",
    "    \"\"\"\n",
    "    url_params = url_params or {}\n",
    "    url = '{0}{1}'.format(host, quote(path.encode('utf8')))\n",
    "    headers = {\n",
    "        'Authorization': 'Bearer %s' % bearer_token,\n",
    "    }\n",
    "\n",
    "    print(u'Querying {0} ...'.format(url))\n",
    "\n",
    "    response = requests.request('GET', url, headers=headers, params=url_params)\n",
    "\n",
    "    return response.json()\n",
    "\n"
   ]
  },
  {
   "cell_type": "code",
   "execution_count": 5,
   "metadata": {
    "collapsed": true
   },
   "outputs": [],
   "source": [
    "def search(bearer_token, term, location):\n",
    "    \"\"\"Query the Search API by a search term and location.\n",
    "\n",
    "    Args:\n",
    "        term (str): The search term passed to the API.\n",
    "        location (str): The search location passed to the API.\n",
    "\n",
    "    Returns:\n",
    "        dict: The JSON response from the request.\n",
    "    \"\"\"\n",
    "\n",
    "    url_params = {\n",
    "        'term': term.replace(' ', '+'),\n",
    "        'location': location.replace(' ', '+'),\n",
    "        'limit': SEARCH_LIMIT\n",
    "    }\n",
    "    return request(API_HOST, SEARCH_PATH, bearer_token, url_params=url_params)\n",
    "\n",
    "\n",
    "def get_business(bearer_token, business_id):\n",
    "    \"\"\"Query the Business API by a business ID.\n",
    "\n",
    "    Args:\n",
    "        business_id (str): The ID of the business to query.\n",
    "\n",
    "    Returns:\n",
    "        dict: The JSON response from the request.\n",
    "    \"\"\"\n",
    "    business_path = BUSINESS_PATH + business_id\n",
    "\n",
    "    return request(API_HOST, business_path, bearer_token)\n",
    "\n",
    "\n"
   ]
  },
  {
   "cell_type": "code",
   "execution_count": 6,
   "metadata": {
    "collapsed": true
   },
   "outputs": [],
   "source": [
    "def query_api(term, location):\n",
    "    \"\"\"Queries the API by the input values from the user.\n",
    "\n",
    "    Args:\n",
    "        term (str): The search term to query.\n",
    "        location (str): The location of the business to query.\n",
    "    \"\"\"\n",
    "    bearer_token = obtain_bearer_token(API_HOST, TOKEN_PATH)\n",
    "\n",
    "    response = search(bearer_token, term, location)\n",
    "\n",
    "    businesses = response.get('businesses')\n",
    "\n",
    "    if not businesses:\n",
    "        print(u'No businesses for {0} in {1} found.'.format(term, location))\n",
    "        return\n",
    "\n",
    "    business_id = businesses[0]['id']\n",
    "\n",
    "    print(u'{0} businesses found, querying business info ' \\\n",
    "        'for the top result \"{1}\" ...'.format(\n",
    "            len(businesses), business_id))\n",
    "    response = get_business(bearer_token, business_id)\n",
    "\n",
    "    print(u'Result for business \"{0}\" found:'.format(business_id))\n",
    "    pprint.pprint(response, indent=2)\n",
    "\n"
   ]
  },
  {
   "cell_type": "code",
   "execution_count": 13,
   "metadata": {
    "collapsed": false
   },
   "outputs": [
    {
     "name": "stdout",
     "output_type": "stream",
     "text": [
      "Querying https://api.yelp.com/v3/businesses/search ...\n",
      "3 businesses found, querying business info for the top result \"khamsa-san-francisco\" ...\n",
      "Querying https://api.yelp.com/v3/businesses/khamsa-san-francisco ...\n",
      "Result for business \"khamsa-san-francisco\" found:\n",
      "{ 'categories': [{'alias': 'moroccan', 'title': 'Moroccan'}],\n",
      "  'coordinates': {'latitude': 37.76654, 'longitude': -122.41798},\n",
      "  'display_phone': '(628) 233-1503',\n",
      "  'hours': [ { 'hours_type': 'REGULAR',\n",
      "               'is_open_now': False,\n",
      "               'open': [ { 'day': 0,\n",
      "                           'end': '1500',\n",
      "                           'is_overnight': False,\n",
      "                           'start': '1100'},\n",
      "                         { 'day': 0,\n",
      "                           'end': '2200',\n",
      "                           'is_overnight': False,\n",
      "                           'start': '1700'},\n",
      "                         { 'day': 1,\n",
      "                           'end': '1500',\n",
      "                           'is_overnight': False,\n",
      "                           'start': '1100'},\n",
      "                         { 'day': 1,\n",
      "                           'end': '2200',\n",
      "                           'is_overnight': False,\n",
      "                           'start': '1700'},\n",
      "                         { 'day': 2,\n",
      "                           'end': '1500',\n",
      "                           'is_overnight': False,\n",
      "                           'start': '1100'},\n",
      "                         { 'day': 2,\n",
      "                           'end': '2200',\n",
      "                           'is_overnight': False,\n",
      "                           'start': '1700'},\n",
      "                         { 'day': 3,\n",
      "                           'end': '1500',\n",
      "                           'is_overnight': False,\n",
      "                           'start': '1100'},\n",
      "                         { 'day': 3,\n",
      "                           'end': '2200',\n",
      "                           'is_overnight': False,\n",
      "                           'start': '1700'},\n",
      "                         { 'day': 4,\n",
      "                           'end': '1500',\n",
      "                           'is_overnight': False,\n",
      "                           'start': '1100'},\n",
      "                         { 'day': 4,\n",
      "                           'end': '2300',\n",
      "                           'is_overnight': False,\n",
      "                           'start': '1700'},\n",
      "                         { 'day': 5,\n",
      "                           'end': '1500',\n",
      "                           'is_overnight': False,\n",
      "                           'start': '1100'},\n",
      "                         { 'day': 5,\n",
      "                           'end': '2300',\n",
      "                           'is_overnight': False,\n",
      "                           'start': '1700'},\n",
      "                         { 'day': 6,\n",
      "                           'end': '1500',\n",
      "                           'is_overnight': False,\n",
      "                           'start': '1100'},\n",
      "                         { 'day': 6,\n",
      "                           'end': '2200',\n",
      "                           'is_overnight': False,\n",
      "                           'start': '1700'}]}],\n",
      "  'id': 'khamsa-san-francisco',\n",
      "  'image_url': 'https://s3-media2.fl.yelpcdn.com/bphoto/wlzExEmFObbw5qZly257jQ/o.jpg',\n",
      "  'is_claimed': True,\n",
      "  'is_closed': False,\n",
      "  'location': { 'address1': '1503 15th St',\n",
      "                'address2': '',\n",
      "                'address3': None,\n",
      "                'city': 'San Francisco',\n",
      "                'country': 'US',\n",
      "                'cross_streets': 'Van Ness Ave & Natoma St',\n",
      "                'display_address': [ '1503 15th St',\n",
      "                                     'San Francisco, CA 94103'],\n",
      "                'state': 'CA',\n",
      "                'zip_code': '94103'},\n",
      "  'name': 'Khamsa',\n",
      "  'phone': '+16282331503',\n",
      "  'photos': [ 'https://s3-media2.fl.yelpcdn.com/bphoto/wlzExEmFObbw5qZly257jQ/o.jpg',\n",
      "              'https://s3-media4.fl.yelpcdn.com/bphoto/6wBD1POh6sfZ-kcIdoid0A/o.jpg',\n",
      "              'https://s3-media2.fl.yelpcdn.com/bphoto/W6omEWfmKbx55d8_f1qEAw/o.jpg'],\n",
      "  'price': '$$',\n",
      "  'rating': 4.5,\n",
      "  'review_count': 46,\n",
      "  'transactions': ['restaurant_reservation'],\n",
      "  'url': 'https://www.yelp.com/biz/khamsa-san-francisco?adjust_creative=tjyTyryK2bdHEM86t-hlVg&utm_campaign=yelp_api_v3&utm_medium=api_v3_business_lookup&utm_source=tjyTyryK2bdHEM86t-hlVg'}\n"
     ]
    }
   ],
   "source": [
    "x = query_api(DEFAULT_TERM,DEFAULT_LOCATION)"
   ]
  },
  {
   "cell_type": "code",
   "execution_count": 8,
   "metadata": {
    "collapsed": false
   },
   "outputs": [
    {
     "data": {
      "text/plain": [
       "_StoreAction(option_strings=['-l', '--location'], dest='location', nargs=None, const=None, default='San Francisco, CA', type=<class 'str'>, choices=None, help='Search location (default: %(default)s)', metavar=None)"
      ]
     },
     "execution_count": 8,
     "metadata": {},
     "output_type": "execute_result"
    }
   ],
   "source": [
    "parser = argparse.ArgumentParser()\n",
    "\n",
    "parser.add_argument('-q', '--term', dest='term', default=DEFAULT_TERM,\n",
    "                        type=str, help='Search term (default: %(default)s)')\n",
    "parser.add_argument('-l', '--location', dest='location',\n",
    "                        default=DEFAULT_LOCATION, type=str,\n",
    "                        help='Search location (default: %(default)s)')"
   ]
  },
  {
   "cell_type": "code",
   "execution_count": 10,
   "metadata": {
    "collapsed": false
   },
   "outputs": [
    {
     "name": "stderr",
     "output_type": "stream",
     "text": [
      "usage: __main__.py [-h] [-q TERM] [-l LOCATION]\n",
      "__main__.py: error: unrecognized arguments: -f /Users/patty/Library/Jupyter/runtime/kernel-6ef7578c-4464-4eeb-be95-952eab2a77b3.json\n"
     ]
    },
    {
     "ename": "SystemExit",
     "evalue": "2",
     "output_type": "error",
     "traceback": [
      "An exception has occurred, use %tb to see the full traceback.\n",
      "\u001b[0;31mSystemExit\u001b[0m\u001b[0;31m:\u001b[0m 2\n"
     ]
    },
    {
     "name": "stderr",
     "output_type": "stream",
     "text": [
      "To exit: use 'exit', 'quit', or Ctrl-D.\n"
     ]
    }
   ],
   "source": [
    "input_values = parser.parse_args()\n",
    "#query_api(input_values.term, input_values.location)"
   ]
  },
  {
   "cell_type": "code",
   "execution_count": 7,
   "metadata": {
    "collapsed": false
   },
   "outputs": [
    {
     "name": "stderr",
     "output_type": "stream",
     "text": [
      "usage: __main__.py [-h] [-q TERM] [-l LOCATION]\n",
      "__main__.py: error: unrecognized arguments: -f /Users/patty/Library/Jupyter/runtime/kernel-6ef7578c-4464-4eeb-be95-952eab2a77b3.json\n"
     ]
    },
    {
     "ename": "SystemExit",
     "evalue": "2",
     "output_type": "error",
     "traceback": [
      "An exception has occurred, use %tb to see the full traceback.\n",
      "\u001b[0;31mSystemExit\u001b[0m\u001b[0;31m:\u001b[0m 2\n"
     ]
    },
    {
     "name": "stderr",
     "output_type": "stream",
     "text": [
      "To exit: use 'exit', 'quit', or Ctrl-D.\n"
     ]
    }
   ],
   "source": [
    "\n",
    "\n",
    "\n",
    "\n",
    "try:\n",
    "    query_api(input_values.term, input_values.location)\n",
    "except HTTPError as error:\n",
    "    sys.exit(\n",
    "        'Encountered HTTP error {0} on {1}:\\n {2}\\nAbort program.'.format(\n",
    "            error.code,\n",
    "            error.url,\n",
    "            error.read(),\n",
    "        )\n",
    "    )\n"
   ]
  },
  {
   "cell_type": "code",
   "execution_count": 3,
   "metadata": {
    "collapsed": false
   },
   "outputs": [
    {
     "name": "stderr",
     "output_type": "stream",
     "text": [
      "usage: __main__.py [-h] [-q TERM] [-l LOCATION]\n",
      "__main__.py: error: unrecognized arguments: -f /Users/patty/Library/Jupyter/runtime/kernel-6ef7578c-4464-4eeb-be95-952eab2a77b3.json\n"
     ]
    },
    {
     "ename": "SystemExit",
     "evalue": "2",
     "output_type": "error",
     "traceback": [
      "An exception has occurred, use %tb to see the full traceback.\n",
      "\u001b[0;31mSystemExit\u001b[0m\u001b[0;31m:\u001b[0m 2\n"
     ]
    },
    {
     "name": "stderr",
     "output_type": "stream",
     "text": [
      "To exit: use 'exit', 'quit', or Ctrl-D.\n"
     ]
    }
   ],
   "source": [
    "\n",
    "\n",
    "\n",
    "\n",
    "\n",
    "\n",
    "\n",
    "def main():\n",
    "    \n",
    "\n",
    "if __name__ == '__main__':\n",
    "    main()"
   ]
  },
  {
   "cell_type": "code",
   "execution_count": null,
   "metadata": {
    "collapsed": true
   },
   "outputs": [],
   "source": []
  }
 ],
 "metadata": {
  "kernelspec": {
   "display_name": "Python 3",
   "language": "python",
   "name": "python3"
  },
  "language_info": {
   "codemirror_mode": {
    "name": "ipython",
    "version": 3
   },
   "file_extension": ".py",
   "mimetype": "text/x-python",
   "name": "python",
   "nbconvert_exporter": "python",
   "pygments_lexer": "ipython3",
   "version": "3.4.3"
  }
 },
 "nbformat": 4,
 "nbformat_minor": 0
}
